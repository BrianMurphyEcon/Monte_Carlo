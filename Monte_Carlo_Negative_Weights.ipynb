{
 "cells": [
  {
   "cell_type": "code",
   "execution_count": 29,
   "id": "d5cee95b-0ec3-4fc8-b87b-ff6ea32bef9c",
   "metadata": {},
   "outputs": [],
   "source": [
    "import pandas as pd\n",
    "import numpy as np\n",
    "import matplotlib.pyplot as plt"
   ]
  },
  {
   "cell_type": "markdown",
   "id": "0c8d05bc-e441-4061-a061-0d663f0bc122",
   "metadata": {},
   "source": [
    "### Monte Carlo Option 1"
   ]
  },
  {
   "cell_type": "code",
   "execution_count": 53,
   "id": "1b9a59b4-be89-4432-b4d6-2b6d53333601",
   "metadata": {},
   "outputs": [],
   "source": [
    "def generate_panel(n_units=100, n_periods=10, treatment_start=5):\n",
    "    \"\"\"\n",
    "    Generate a balanced panel with staggered treatment adoption.\n",
    "    \"\"\"\n",
    "    # Create panel structure\n",
    "    units = np.arange(n_units)\n",
    "    periods = np.arange(n_periods)\n",
    "    panel = pd.DataFrame([(u, t) for u in units for t in periods], \n",
    "                         columns=['unit', 'time'])\n",
    "    \n",
    "    # Assign treatment timing (staggered adoption)\n",
    "    treatment_times = np.random.randint(treatment_start, n_periods, size=n_units)\n",
    "    unit_treats = pd.DataFrame({'unit': units, 'treat_time': treatment_times})\n",
    "    panel = panel.merge(unit_treats, on='unit')\n",
    "    \n",
    "    # Create treatment indicator\n",
    "    panel['D'] = (panel['time'] >= panel['treat_time']).astype(int)\n",
    "    \n",
    "    # Generate heterogeneous treatment effects\n",
    "    panel['tau'] = np.where(panel['D'] == 1,\n",
    "                            2 + 0.5 * panel['time'] + np.random.normal(0, 0.1, len(panel)),\n",
    "                            0)\n",
    "    \n",
    "    # Generate outcome with unit FE, time FE and treatment effects\n",
    "    panel['unit_fe'] = np.random.normal(0, 1, n_units)[panel['unit']]\n",
    "    panel['time_fe'] = 0.2 * panel['time']\n",
    "    panel['epsilon'] = np.random.normal(0, 1, len(panel))\n",
    "    panel['Y'] = panel['unit_fe'] + panel['time_fe'] + panel['tau'] + panel['epsilon']\n",
    "    \n",
    "    return panel"
   ]
  },
  {
   "cell_type": "code",
   "execution_count": 55,
   "id": "eee85455-619f-4c7c-b49c-8a470f0f625e",
   "metadata": {},
   "outputs": [],
   "source": [
    "def estimate_twfe(data):\n",
    "    \"\"\"\n",
    "    Estimate two-way fixed effects regression with proper handling of dummy variables.\n",
    "    Returns the coefficient on the treatment indicator.\n",
    "    \"\"\"\n",
    "    # Create unit and time dummies\n",
    "    unit_dummies = pd.get_dummies(data['unit'], prefix='unit')\n",
    "    time_dummies = pd.get_dummies(data['time'], prefix='time')\n",
    "    \n",
    "    # Drop one category from each set of dummies to avoid collinearity\n",
    "    unit_dummies = unit_dummies.iloc[:, :-1]  # Drop last unit\n",
    "    time_dummies = time_dummies.iloc[:, :-1]  # Drop last time period\n",
    "    \n",
    "    # Combine all variables: note that I put 'D' as the last column\n",
    "    X = pd.concat([unit_dummies, time_dummies, data['D']], axis=1)\n",
    "    y = data['Y']\n",
    "    \n",
    "    # Add constant term; note that pd.Series(1, index=X.index) creates a series of 1's.\n",
    "    X = pd.concat([pd.Series(1, index=X.index, name='const'), X], axis=1)\n",
    "    \n",
    "    # Convert X and y to numpy arrays\n",
    "    X_np = X.values\n",
    "    y_np = y.values\n",
    "    \n",
    "    # Estimate OLS using formula \n",
    "    beta = np.linalg.inv(X_np.T @ X_np) @ (X_np.T @ y_np)\n",
    "    \n",
    "    # Because we concatenated the treatment indicator as the last column, the coefficient on D is at position -1.\n",
    "    return beta[-1]"
   ]
  },
  {
   "cell_type": "code",
   "execution_count": 57,
   "id": "3e18ad62-ddbb-4c34-b72a-72c819c46094",
   "metadata": {},
   "outputs": [],
   "source": [
    "# Run simulation\n",
    "np.random.seed(123)\n",
    "n_sims = 1000\n",
    "estimates = []\n",
    "true_effects = []\n",
    "\n",
    "for i in range(n_sims):\n",
    "    data = generate_panel()\n",
    "    est = estimate_twfe(data)\n",
    "    estimates.append(est)\n",
    "    \n",
    "    # Calculate true average treatment effect for this sample\n",
    "    true_ate = data.loc[data['D'] == 1, 'tau'].mean()\n",
    "    true_effects.append(true_ate)"
   ]
  },
  {
   "cell_type": "code",
   "execution_count": 58,
   "id": "045751a6-3acf-4654-946c-2db072affba9",
   "metadata": {},
   "outputs": [
    {
     "name": "stdout",
     "output_type": "stream",
     "text": [
      "Average TWFE estimate: 5.257\n",
      "Average true effect: 5.835\n",
      "Average bias: -0.577\n"
     ]
    }
   ],
   "source": [
    "# Analyze results\n",
    "estimates = np.array(estimates)\n",
    "true_effects = np.array(true_effects)\n",
    "bias = np.mean(estimates - true_effects)\n",
    "\n",
    "print(f\"Average TWFE estimate: {np.mean(estimates):.3f}\")\n",
    "print(f\"Average true effect: {np.mean(true_effects):.3f}\")\n",
    "print(f\"Average bias: {bias:.3f}\")\n"
   ]
  },
  {
   "cell_type": "code",
   "execution_count": 59,
   "id": "9c7b65e8-35a9-47e7-978a-30aec22b1843",
   "metadata": {},
   "outputs": [
    {
     "name": "stdout",
     "output_type": "stream",
     "text": [
      "\n",
      "Distribution of treatment effects in one sample:\n",
      "time\n",
      "5    4.497215\n",
      "6    5.019483\n",
      "7    5.506498\n",
      "8    5.995838\n",
      "9    6.515185\n",
      "Name: tau, dtype: float64\n"
     ]
    }
   ],
   "source": [
    "# Also look at the distribution of weights in one sample\n",
    "data = generate_panel()\n",
    "treated_data = data[data['D'] == 1]\n",
    "print(\"\\nDistribution of treatment effects in one sample:\")\n",
    "print(treated_data.groupby('time')['tau'].mean())"
   ]
  },
  {
   "cell_type": "markdown",
   "id": "f0b6d6de-241d-44d2-8a84-a058ad694e97",
   "metadata": {},
   "source": [
    "### Monte Carlo Option 2"
   ]
  },
  {
   "cell_type": "code",
   "execution_count": 43,
   "id": "4a198610-5c38-4cc0-bdb4-52eaac23814f",
   "metadata": {},
   "outputs": [],
   "source": [
    "def create_simple_panel():\n",
    "    \"\"\"\n",
    "    Create a simple panel data set with 2 units and 3 time periods.\n",
    "    \n",
    "    - Unit A is treated starting in period 2.\n",
    "    - Unit B is treated starting in period 3.\n",
    "    The outcome Y reflects the treatment effect:\n",
    "      - Unit A: tau = 2 at time 2 and tau = 4 at time 3.\n",
    "      - Unit B: tau = 3 at time 3.\n",
    "    \"\"\"\n",
    "    data = pd.DataFrame([\n",
    "        # Unit A observations\n",
    "        {'unit': 'A', 'time': 1, 'D': 0, 'Y': 0},\n",
    "        {'unit': 'A', 'time': 2, 'D': 1, 'Y': 2},  # Treatment effect = 2\n",
    "        {'unit': 'A', 'time': 3, 'D': 1, 'Y': 4},  # Treatment effect = 4\n",
    "        # Unit B observations\n",
    "        {'unit': 'B', 'time': 1, 'D': 0, 'Y': 0},\n",
    "        {'unit': 'B', 'time': 2, 'D': 0, 'Y': 0},\n",
    "        {'unit': 'B', 'time': 3, 'D': 1, 'Y': 3},  # Treatment effect = 3\n",
    "    ])\n",
    "    return data"
   ]
  },
  {
   "cell_type": "code",
   "execution_count": 45,
   "id": "f161025c-b46a-410f-ae45-5003f41a0203",
   "metadata": {},
   "outputs": [],
   "source": [
    "def plot_panel(data):\n",
    "    \"\"\"\n",
    "    Plot outcomes over time for each unit and mark the time at which treatment begins.\n",
    "    \"\"\"\n",
    "    plt.figure(figsize=(10, 6))\n",
    "    units = data['unit'].unique()\n",
    "    # Define line styles for clarity\n",
    "    line_styles = {'A': '-', 'B': '--'}\n",
    "    \n",
    "    for unit in units:\n",
    "        unit_data = data[data['unit'] == unit]\n",
    "        plt.plot(unit_data['time'], unit_data['Y'], marker='o', \n",
    "                 label=f'Unit {unit}', linestyle=line_styles.get(unit, '-'))\n",
    "    \n",
    "    # Mark treatment initiation for each unit based on the first period D==1 for each unit\n",
    "    for unit in units:\n",
    "        treat_time = data[(data['unit'] == unit) & (data['D'] == 1)]['time'].min()\n",
    "        if pd.notnull(treat_time):\n",
    "            plt.axvline(x=treat_time, color='gray', linestyle=':', \n",
    "                        label=f'Unit {unit} treated (t={treat_time})')\n",
    "    \n",
    "    plt.xlabel('Time')\n",
    "    plt.ylabel('Outcome (Y)')\n",
    "    plt.title('Simple Example of Treatment Effects')\n",
    "    plt.legend()\n",
    "    plt.grid(True)\n",
    "    plt.show()"
   ]
  },
  {
   "cell_type": "code",
   "execution_count": 47,
   "id": "10f82926-73aa-4b30-af3a-326186c194df",
   "metadata": {},
   "outputs": [],
   "source": [
    "def get_twfe_weights(data):\n",
    "    \"\"\"\n",
    "    Calculate the implicit weights on each observation in a TWFE regression.\n",
    "    \n",
    "    The design matrix includes:\n",
    "      - Unit fixed effects (dummy variables)\n",
    "      - Time fixed effects (dummy variables)\n",
    "      - The treatment indicator D (placed as the last column)\n",
    "    \n",
    "    Returns:\n",
    "      A DataFrame with the unit, time, treatment indicator, and computed weight.\n",
    "    \"\"\"\n",
    "    # Create dummies for units and time\n",
    "    unit_dummies = pd.get_dummies(data['unit'], prefix='unit')\n",
    "    time_dummies = pd.get_dummies(data['time'], prefix='time')\n",
    "    \n",
    "    # Concat the dummy variables and the treatment\n",
    "    X = pd.concat([unit_dummies, time_dummies, data['D']], axis=1)\n",
    "    \n",
    "    # Compute the projection matrix: P = X (X'X)^{-1} X'\n",
    "    XtX_inv = np.linalg.inv(X.T @ X)\n",
    "    P = X.values @ XtX_inv @ X.values.T\n",
    "    \n",
    "    # Extract the weights corresponding to the treatment indicator.\n",
    "    # We assume that the treatment column is the last one in X.\n",
    "    weights = P[:, -1]\n",
    "    \n",
    "    return pd.DataFrame({\n",
    "        'unit': data['unit'],\n",
    "        'time': data['time'],\n",
    "        'D': data['D'],\n",
    "        'weight': weights\n",
    "    })"
   ]
  },
  {
   "cell_type": "code",
   "execution_count": 49,
   "id": "7f71c405-fcda-4f94-89f7-558881cbe8fd",
   "metadata": {},
   "outputs": [],
   "source": [
    "def compute_twfe_estimate(weights, true_effects):\n",
    "    \"\"\"\n",
    "    Merge the computed weights with true treatment effects for treated observations,\n",
    "    and calculate the TWFE estimated treatment effect.\n",
    "    \n",
    "    Args:\n",
    "      weights: DataFrame with columns ['unit', 'time', 'D', 'weight'].\n",
    "      true_effects: DataFrame with columns ['unit', 'time', 'tau'] containing the\n",
    "                    true treatment effect for treated observations.\n",
    "    \n",
    "    Returns:\n",
    "      The TWFE estimate computed as the sum over treated observations of (weight * tau).\n",
    "    \"\"\"\n",
    "    # Merge weights with true treatment effects for treated observations only\n",
    "    merged = weights[weights['D'] == 1].merge(true_effects, on=['unit', 'time'])\n",
    "    twfe_estimate = (merged['weight'] * merged['tau']).sum()\n",
    "    return twfe_estimate, merged[['unit', 'time', 'weight', 'tau']]\n"
   ]
  },
  {
   "cell_type": "code",
   "execution_count": 51,
   "id": "7eb9ee31-244e-4cf9-a023-6acece07be50",
   "metadata": {},
   "outputs": [
    {
     "data": {
      "image/png": "[encoded data removed]",
      "text/plain": [
       "<Figure size 1000x600 with 1 Axes>"
      ]
     },
     "metadata": {},
     "output_type": "display_data"
    },
    {
     "name": "stdout",
     "output_type": "stream",
     "text": [
      "\n",
      "Implicit weights in TWFE estimation:\n",
      "  unit  time  D        weight\n",
      "0    A     1  0 -2.500000e-01\n",
      "1    A     2  1 -4.440892e-16\n",
      "2    A     3  1  2.500000e-01\n",
      "3    B     1  0  5.000000e-01\n",
      "4    B     2  0  2.500000e-01\n",
      "5    B     3  1  1.000000e+00\n"
     ]
    }
   ],
   "source": [
    "# Create and plot the panel data\n",
    "data = create_simple_panel()\n",
    "plot_panel(data)\n",
    "\n",
    "# Compute the implicit TWFE weights\n",
    "weights = get_twfe_weights(data)\n",
    "print(\"\\nImplicit weights in TWFE estimation:\")\n",
    "print(weights)\n",
    "\n",
    "# Define the true treatment effects for the treated observations\n",
    "true_effects = pd.DataFrame([\n",
    "    {'unit': 'A', 'time': 2, 'tau': 2},\n",
    "    {'unit': 'A', 'time': 3, 'tau': 4},\n",
    "    {'unit': 'B', 'time': 3, 'tau': 3}\n",
    "])"
   ]
  },
  {
   "cell_type": "code",
   "execution_count": 40,
   "id": "bd2e572d-89c8-4e36-8d32-391779e87990",
   "metadata": {},
   "outputs": [
    {
     "name": "stdout",
     "output_type": "stream",
     "text": [
      "\n",
      "Contribution of each treatment effect:\n",
      "  unit  time        weight  tau\n",
      "0    A     2 -4.440892e-16    2\n",
      "1    A     3  2.500000e-01    4\n",
      "2    B     3  1.000000e+00    3\n",
      "\n",
      "TWFE estimate: 4.00\n"
     ]
    }
   ],
   "source": [
    "# Compute the TWFE estimate based on the weights and true treatment effects\n",
    "twfe_est, weighted_effects = compute_twfe_estimate(weights, true_effects)\n",
    "print(\"\\nContribution of each treatment effect:\")\n",
    "print(weighted_effects)\n",
    "print(f\"\\nTWFE estimate: {twfe_est:.2f}\")\n"
   ]
  }
 ],
 "metadata": {
  "kernelspec": {
   "display_name": "Python 3 (ipykernel)",
   "language": "python",
   "name": "python3"
  },
  "language_info": {
   "codemirror_mode": {
    "name": "ipython",
    "version": 3
   },
   "file_extension": ".py",
   "mimetype": "text/x-python",
   "name": "python",
   "nbconvert_exporter": "python",
   "pygments_lexer": "ipython3",
   "version": "3.11.7"
  }
 },
 "nbformat": 4,
 "nbformat_minor": 5
}
